{
 "cells": [
  {
   "cell_type": "markdown",
   "id": "c9538486",
   "metadata": {},
   "source": [
    "***EXTENSIONS FOR bankdepositprediction PIPELINE YOU CAN EDIT THESE EXTENSIONS***"
   ]
  },
  {
   "cell_type": "markdown",
   "id": "ab67785a",
   "metadata": {},
   "source": [
    "***EXTENSIONS FOR SOURCE STAGE***"
   ]
  },
  {
   "cell_type": "code",
   "execution_count": null,
   "id": "93390774",
   "metadata": {},
   "outputs": [],
   "source": [
    "def sourcePreExecutionHook():\n",
    "\tprint('inside source pre execution hook')\n",
    "\n",
    "\n",
    "def sourcePostExecutionHook(data):\n",
    "\tprint('inside source post execution hook')\n",
    "\n",
    "\n"
   ]
  },
  {
   "cell_type": "markdown",
   "id": "7e8cdd10",
   "metadata": {},
   "source": [
    "***EXTENSIONS FOR PREDICTION STAGE***"
   ]
  },
  {
   "cell_type": "code",
   "execution_count": null,
   "id": "05ff8b43",
   "metadata": {},
   "outputs": [],
   "source": [
    "def prediction-pipelinePreExecutionHook():\n",
    "\tprint('inside prediction-pipeline pre execution hook')\n",
    "\n",
    "\n",
    "def prediction-pipelinePostExecutionHook(data):\n",
    "\tprint('inside prediction-pipeline post execution hook')\n",
    "\n",
    "\n"
   ]
  },
  {
   "cell_type": "markdown",
   "id": "33b15098",
   "metadata": {},
   "source": [
    "***EXTENSIONS FOR SINK STAGE***"
   ]
  },
  {
   "cell_type": "code",
   "execution_count": null,
   "id": "d76b4891",
   "metadata": {},
   "outputs": [],
   "source": [
    "def sinkPreExecutionHook():\n",
    "\tprint('inside sink pre execution hook')\n",
    "\n",
    "\n",
    "def sinkPostExecutionHook(data):\n",
    "\tprint('inside sink post execution hook')\n",
    "\n",
    "\n"
   ]
  }
 ],
 "metadata": {},
 "nbformat": 4,
 "nbformat_minor": 5
}
